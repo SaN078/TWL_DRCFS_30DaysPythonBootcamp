{
 "cells": [
  {
   "cell_type": "markdown",
   "metadata": {},
   "source": [
    "Hi MoM!\n"
   ]
  },
  {
   "cell_type": "markdown",
   "metadata": {},
   "source": [
    "# DAY 1"
   ]
  },
  {
   "cell_type": "code",
   "execution_count": 26,
   "metadata": {},
   "outputs": [
    {
     "name": "stdout",
     "output_type": "stream",
     "text": [
      "Hi MOM!!\n"
     ]
    }
   ],
   "source": [
    "print(\"Hi MOM!!\")"
   ]
  },
  {
   "cell_type": "markdown",
   "metadata": {},
   "source": [
    "Input\n"
   ]
  },
  {
   "cell_type": "code",
   "execution_count": 27,
   "metadata": {},
   "outputs": [
    {
     "name": "stdout",
     "output_type": "stream",
     "text": [
      "hi lop\n",
      "san\n"
     ]
    }
   ],
   "source": [
    "plox = input(\"Tell me your name babygorl;)\")\n",
    "print(\"hi \"  + plox)\n",
    "name = input(\"Name::\")\n",
    "print(name)"
   ]
  },
  {
   "cell_type": "markdown",
   "metadata": {},
   "source": [
    "#variables and data types\n",
    "1. int -> integer\n",
    "2. str-> string\n",
    "3. float-> Float(69.42)\n",
    "4. None-> Null\n",
    "5. Bool-> Boolean(true or false)"
   ]
  },
  {
   "cell_type": "code",
   "execution_count": 28,
   "metadata": {},
   "outputs": [
    {
     "name": "stdout",
     "output_type": "stream",
     "text": [
      "<class 'float'>\n"
     ]
    }
   ],
   "source": [
    "num = 69.43\n",
    "person = \"Sangeet\"\n",
    "print(type(num))"
   ]
  },
  {
   "cell_type": "code",
   "execution_count": 29,
   "metadata": {},
   "outputs": [
    {
     "name": "stdout",
     "output_type": "stream",
     "text": [
      "<class 'bool'>\n",
      "False\n"
     ]
    }
   ],
   "source": [
    "print(type(1==2))\n",
    "print(1 == 4)"
   ]
  },
  {
   "cell_type": "markdown",
   "metadata": {},
   "source": [
    "Differences between comparing and assigning\n",
    "while comparing we use \"==\" but when assigning we use a single =\n"
   ]
  },
  {
   "cell_type": "code",
   "execution_count": 30,
   "metadata": {},
   "outputs": [
    {
     "name": "stdout",
     "output_type": "stream",
     "text": [
      "Hi pops you are 33 years old ;) .\n"
     ]
    }
   ],
   "source": [
    "age = int(input(\"What is your age? \"))\n",
    "#age = int(age)\n",
    "name = input(\"What is your name? \")\n",
    "print(\"Hi \" + name  + \" you are\",str(age),\"years old ;) .\")"
   ]
  },
  {
   "cell_type": "markdown",
   "metadata": {},
   "source": [
    "# DAY 2\n"
   ]
  },
  {
   "cell_type": "markdown",
   "metadata": {},
   "source": [
    "### Control flow statements"
   ]
  },
  {
   "cell_type": "markdown",
   "metadata": {},
   "source": [
    "Question \n",
    "1. User age input and convert it into integer\n",
    "2.  Check if the user is 16 or older\n",
    "3. If age > 16 then say they are eligible\n",
    "4. If age < 16 then say they are not eligible"
   ]
  },
  {
   "cell_type": "code",
   "execution_count": 2,
   "metadata": {},
   "outputs": [
    {
     "name": "stdout",
     "output_type": "stream",
     "text": [
      "You can apply for the lisence\n"
     ]
    }
   ],
   "source": [
    "#wap to see if u are capable for driving lisence\n",
    "#taking age \n",
    "str_age = input(\"Hey there, What is your age? \")\n",
    "#convert input to integer\n",
    "age = int(str_age)\n",
    "#compare user ko age\n",
    "if (age>16):\n",
    "    print(\"You can apply for the lisence!!\")\n",
    "else:\n",
    "    print(\"You cannot apply for the lisence:)\")"
   ]
  },
  {
   "cell_type": "markdown",
   "metadata": {},
   "source": [
    "### LOGIN SYSTEM"
   ]
  },
  {
   "cell_type": "code",
   "execution_count": 2,
   "metadata": {},
   "outputs": [
    {
     "name": "stdout",
     "output_type": "stream",
     "text": [
      "logged in as samrid\n"
     ]
    }
   ],
   "source": [
    "#taking username\n",
    "username = input(\"Enter username:  \")\n",
    "#taking password\n",
    "password = input(\"Enter your password:  \")\n",
    "\n",
    "# username == \"san\" password==\"k1llsh0t\"\n",
    "if username == 'san' and password == 'k1llsh0t':\n",
    "    print(\"Logged in as\",username)\n",
    "elif username == 'samrid' and password == 'hatesme':\n",
    "    print('logged in as', username)\n"
   ]
  },
  {
   "cell_type": "markdown",
   "metadata": {},
   "source": [
    "## Loops\n"
   ]
  },
  {
   "cell_type": "code",
   "execution_count": 3,
   "metadata": {},
   "outputs": [
    {
     "name": "stdout",
     "output_type": "stream",
     "text": [
      "0 is even\n",
      "1 is odd\n",
      "2 is even\n",
      "3 is odd\n",
      "4 is even\n",
      "5 is odd\n",
      "6 is even\n",
      "7 is odd\n",
      "8 is even\n",
      "9 is odd\n"
     ]
    }
   ],
   "source": [
    "for i in range(10):\n",
    "    if i%2==0:\n",
    "        print(i,\"is even\")\n",
    "    else:\n",
    "        print(i, \"is odd\")"
   ]
  },
  {
   "cell_type": "markdown",
   "metadata": {},
   "source": [
    "# Number Guessing Game\n",
    "\n",
    "1. We will be using a module called Random\n",
    "2. The user will have 3 tries to guess the number \n",
    "3. The user will be getting hints if the number is higher or lower\n",
    "4. I will be using conditional statements that i learnt yesterday and a loop to take 5 inputs from the user"
   ]
  },
  {
   "cell_type": "code",
   "execution_count": 27,
   "metadata": {},
   "outputs": [
    {
     "name": "stdout",
     "output_type": "stream",
     "text": [
      "Hey There, Welcome to the Number guessing game\n",
      "Guess a number from 1 to 10.\n",
      "------------------------------------------------\n",
      "\n",
      "You guessed 3\n",
      "The number is lower than 3\n",
      "You guessed 2\n",
      "Congrats you got it in 2 tries!!\n"
     ]
    }
   ],
   "source": [
    "#improting random \n",
    "import random\n",
    "#assigning random numbers and storing it\n",
    "print(\"Hey There, Welcome to the Number guessing game\\nGuess a number from 1 to 10.\")\n",
    "print(\"------------------------------------------------\")\n",
    "user_number = int(input(\"Guess the number\"))\n",
    "bot_number = random.randint(1,10)\n",
    "for i in range(1,5):\n",
    "    print(\"You guessed\",user_number)\n",
    "    if user_number == bot_number:\n",
    "        print(f\"Congrats you got it in {i} tries!!\")\n",
    "        break\n",
    "    elif user_number > bot_number:\n",
    "        print(\"The number is lower than\",user_number)\n",
    "        user_number = int(input(\"Enter your other guess::\"))\n",
    "    elif user_number < bot_number:\n",
    "        print(\"The number is greater than\",user_number)\n",
    "        user_number = int(input(\"Enter your other guess::\"))"
   ]
  },
  {
   "cell_type": "markdown",
   "metadata": {},
   "source": [
    "# Day 3"
   ]
  },
  {
   "cell_type": "markdown",
   "metadata": {},
   "source": [
    "### Fizzbuzz"
   ]
  }
 ],
 "metadata": {
  "kernelspec": {
   "display_name": "Python 3.11.0 64-bit",
   "language": "python",
   "name": "python3"
  },
  "language_info": {
   "codemirror_mode": {
    "name": "ipython",
    "version": 3
   },
   "file_extension": ".py",
   "mimetype": "text/x-python",
   "name": "python",
   "nbconvert_exporter": "python",
   "pygments_lexer": "ipython3",
   "version": "3.11.0"
  },
  "orig_nbformat": 4,
  "vscode": {
   "interpreter": {
    "hash": "7e5c0badbb2d24bbc3f94f0128230c51073dab69f6205fe8338cbe6039d785c3"
   }
  }
 },
 "nbformat": 4,
 "nbformat_minor": 2
}
