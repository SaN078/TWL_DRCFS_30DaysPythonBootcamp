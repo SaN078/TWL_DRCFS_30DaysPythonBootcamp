{
 "cells": [
  {
   "cell_type": "markdown",
   "metadata": {},
   "source": [
    "# List and Tuples"
   ]
  },
  {
   "cell_type": "code",
   "execution_count": 4,
   "metadata": {},
   "outputs": [
    {
     "name": "stdout",
     "output_type": "stream",
     "text": [
      "['apple', 'banana', 'citrus', 'cherry', 'me;)']\n"
     ]
    }
   ],
   "source": [
    "# list\n",
    "Fruits = ['apple','banana','citrus','cherry','me;)']\n",
    "\n",
    "# accessing list values\n",
    "print(Fruits)\n"
   ]
  },
  {
   "cell_type": "code",
   "execution_count": 6,
   "metadata": {},
   "outputs": [
    {
     "name": "stdout",
     "output_type": "stream",
     "text": [
      "apple\n",
      "banana\n",
      "citrus\n",
      "cherry\n",
      "me;)\n",
      "['apple', 'banana', 'citrus', 'cherry', 'me;)', 'you;)']\n"
     ]
    }
   ],
   "source": [
    "for i in Fruits:\n",
    "    print(i)\n",
    "\n",
    "#adding someting to list\n",
    "\n",
    "Fruits.append('you;)')\n",
    "\n",
    "print(Fruits)"
   ]
  },
  {
   "cell_type": "markdown",
   "metadata": {},
   "source": [
    "##### List is mutable\n",
    "\n",
    "We can change things in the list.\n",
    "\n",
    "li=[1,2,3]\n",
    "li.append(4)"
   ]
  },
  {
   "cell_type": "code",
   "execution_count": 19,
   "metadata": {},
   "outputs": [
    {
     "name": "stdout",
     "output_type": "stream",
     "text": [
      "['apple', 'banana', 'cherry', 'me;)', 'you;)']\n",
      "['apple', 'banana', 'cherry', 'me;)', 'Mango', 'you;)']\n"
     ]
    }
   ],
   "source": [
    "Fruits = ['apple','banana','citrus','cherry','me;)']\n",
    "\n",
    "\n",
    "\n",
    "Fruits.pop(2)\n",
    "\n",
    "Fruits.append('you;)')\n",
    "\n",
    "\n",
    "print(Fruits)\n",
    "\n",
    "Fruits.insert(4, 'Mango')\n",
    "print(Fruits)"
   ]
  },
  {
   "cell_type": "markdown",
   "metadata": {},
   "source": [
    "# List v/s Tuples"
   ]
  },
  {
   "cell_type": "markdown",
   "metadata": {},
   "source": [
    "list:\n",
    "1. Initializatiion -> []\n",
    "2. mutable\n",
    "\n",
    "tuples:\n",
    "\n",
    "1. Initialization -> ('something','something_1')\n",
    "2. Immutable"
   ]
  },
  {
   "cell_type": "code",
   "execution_count": 22,
   "metadata": {},
   "outputs": [
    {
     "name": "stdout",
     "output_type": "stream",
     "text": [
      "red\n",
      "white\n",
      "blue\n",
      "black\n",
      "she\n",
      "was\n",
      "the\n",
      "one\n",
      "for\n",
      "me\n",
      "black\n"
     ]
    }
   ],
   "source": [
    "#tuples\n",
    "\n",
    "colors = ('red','white','blue','black','she','was','the','one','for','me')\n",
    "\n",
    "for her in colors:\n",
    "    print(her)\n",
    "\n",
    "\n",
    "print(colors[3])"
   ]
  },
  {
   "cell_type": "markdown",
   "metadata": {},
   "source": [
    "# Dictionary\n"
   ]
  },
  {
   "cell_type": "code",
   "execution_count": 5,
   "metadata": {},
   "outputs": [
    {
     "name": "stdout",
     "output_type": "stream",
     "text": [
      "{'egg': 'poke', 'tree': 'leaf', 'sangeet': 'raut', 'your': 'hawt'}\n",
      "poke\n",
      "None\n",
      "poke\n"
     ]
    }
   ],
   "source": [
    "user_pass = { 'egg':'poke','tree':'leaf','sangeet':'raut','your':'hawt'}\n",
    "#printing the whole dictionary\n",
    "print(user_pass)\n",
    "#printing an index\n",
    "print(user_pass.get('egg'))\n",
    "#printing a null value\n",
    "print(user_pass.get('me'))\n",
    "\n",
    "#accessing value from dictionary\n",
    "print(user_pass['egg'])\n",
    "#here if there is not a key in the dict then it crashes the program so it is better to use //user_pass.get()//\n",
    "#error is called key error\n",
    "\n"
   ]
  },
  {
   "cell_type": "code",
   "execution_count": 11,
   "metadata": {},
   "outputs": [
    {
     "name": "stdout",
     "output_type": "stream",
     "text": [
      "osikobaini\n"
     ]
    }
   ],
   "source": [
    "user_pass['samrid'] = 'isnotgae'\n",
    "\n",
    "\n",
    "#replacing the value using key\n",
    "user_pass['sangeet'] = 'osikobaini'\n",
    "\n",
    "print(user_pass.get('sangeet'))"
   ]
  },
  {
   "cell_type": "code",
   "execution_count": null,
   "metadata": {},
   "outputs": [],
   "source": [
    "for user in user_pass:\n",
    "    print(user[0],user[1])\n",
    "\n",
    "print(user_pass.keys())\n",
    "print(user_pass.values())\n"
   ]
  },
  {
   "cell_type": "markdown",
   "metadata": {},
   "source": [
    "## Login System\n",
    "\n",
    "1. Take username from user\n",
    "2. Get the password for the username provided:\n",
    "3. if password is ! in the dictionary then the username doesnt exist\n",
    "4. if password is in the dictionary then login "
   ]
  },
  {
   "cell_type": "code",
   "execution_count": 13,
   "metadata": {},
   "outputs": [
    {
     "name": "stdout",
     "output_type": "stream",
     "text": [
      "Logged in as samrid\n"
     ]
    }
   ],
   "source": [
    "# Login Sys\n",
    "\n",
    "username =  input(\"Enter Username::\")\n",
    "userpass = input(\"Enter Password::\")\n",
    "\n",
    "#get the pass\n",
    "password = user_pass.get(username)\n",
    "\n",
    "\n",
    "#check if user exists\n",
    "if password == None:\n",
    "    print(\"User not found\")\n",
    "\n",
    "#check password\n",
    "elif password == userpass:\n",
    "    print(f\"Logged in as {username}\")\n",
    "else:\n",
    "    print(\"Incorrect password\")\n"
   ]
  }
 ],
 "metadata": {
  "kernelspec": {
   "display_name": "Python 3.10.8 64-bit",
   "language": "python",
   "name": "python3"
  },
  "language_info": {
   "codemirror_mode": {
    "name": "ipython",
    "version": 3
   },
   "file_extension": ".py",
   "mimetype": "text/x-python",
   "name": "python",
   "nbconvert_exporter": "python",
   "pygments_lexer": "ipython3",
   "version": "3.10.8"
  },
  "orig_nbformat": 4,
  "vscode": {
   "interpreter": {
    "hash": "e7370f93d1d0cde622a1f8e1c04877d8463912d04d973331ad4851f04de6915a"
   }
  }
 },
 "nbformat": 4,
 "nbformat_minor": 2
}
